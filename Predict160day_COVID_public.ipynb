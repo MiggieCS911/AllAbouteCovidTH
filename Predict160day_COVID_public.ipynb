{
  "nbformat": 4,
  "nbformat_minor": 0,
  "metadata": {
    "colab": {
      "name": "Predict160day_COVID_public.ipynb",
      "provenance": [],
      "machine_shape": "hm",
      "mount_file_id": "1r78yna5iCxRFdeK0oR2k8v7LZYkTnvm5",
      "authorship_tag": "ABX9TyOQmheBAv/CPEG2NOVudoHM",
      "include_colab_link": true
    },
    "kernelspec": {
      "name": "python3",
      "display_name": "Python 3"
    },
    "language_info": {
      "name": "python"
    }
  },
  "cells": [
    {
      "cell_type": "markdown",
      "metadata": {
        "id": "view-in-github",
        "colab_type": "text"
      },
      "source": [
        "<a href=\"https://colab.research.google.com/github/MiggieCS911/AllAbouteCovidTH/blob/main/Predict160day_COVID_public.ipynb\" target=\"_parent\"><img src=\"https://colab.research.google.com/assets/colab-badge.svg\" alt=\"Open In Colab\"/></a>"
      ]
    },
    {
      "cell_type": "code",
      "metadata": {
        "id": "D1OCVr9VjZTh"
      },
      "source": [
        "import numpy as np\n",
        "import pandas as pd\n",
        "import matplotlib.pyplot as plt\n",
        "\n",
        "import tensorflow as tf\n",
        "from tensorflow import keras\n",
        "from keras.layers import Input, LSTM, Dense, Dropout, Bidirectional\n",
        "from keras.models import Model,"
      ],
      "execution_count": null,
      "outputs": []
    },
    {
      "cell_type": "markdown",
      "metadata": {
        "id": "_VStxRJakwpY"
      },
      "source": [
        "# Load LSTM model"
      ]
    },
    {
      "cell_type": "code",
      "metadata": {
        "id": "t4eQMxHKkZHa"
      },
      "source": [
        "model = tf.keras.models.load_model('/content/drive/MyDrive/covid_model/result/CovidPredictionNextDayFrom14day.h5')"
      ],
      "execution_count": null,
      "outputs": []
    },
    {
      "cell_type": "markdown",
      "metadata": {
        "id": "XSoPdpyek1Sx"
      },
      "source": [
        "# Create prepare data pipeline"
      ]
    },
    {
      "cell_type": "code",
      "metadata": {
        "colab": {
          "base_uri": "https://localhost:8080/",
          "height": 418
        },
        "id": "hXQ1eKmmkpE1",
        "outputId": "426b643e-3c6a-45ab-f6ff-b598fc3f7031"
      },
      "source": [
        "alldf = pd.read_csv('/content/drive/MyDrive/covid_model/data/owid-covid-data_24072021.csv')\n",
        "df = alldf.loc[alldf['location'] == 'Thailand', ['date','new_cases_per_million']].copy()\n",
        "df"
      ],
      "execution_count": null,
      "outputs": [
        {
          "output_type": "execute_result",
          "data": {
            "text/html": [
              "<div>\n",
              "<style scoped>\n",
              "    .dataframe tbody tr th:only-of-type {\n",
              "        vertical-align: middle;\n",
              "    }\n",
              "\n",
              "    .dataframe tbody tr th {\n",
              "        vertical-align: top;\n",
              "    }\n",
              "\n",
              "    .dataframe thead th {\n",
              "        text-align: right;\n",
              "    }\n",
              "</style>\n",
              "<table border=\"1\" class=\"dataframe\">\n",
              "  <thead>\n",
              "    <tr style=\"text-align: right;\">\n",
              "      <th></th>\n",
              "      <th>date</th>\n",
              "      <th>new_cases_per_million</th>\n",
              "    </tr>\n",
              "  </thead>\n",
              "  <tbody>\n",
              "    <tr>\n",
              "      <th>93418</th>\n",
              "      <td>2020-01-04</td>\n",
              "      <td>NaN</td>\n",
              "    </tr>\n",
              "    <tr>\n",
              "      <th>93419</th>\n",
              "      <td>2020-01-05</td>\n",
              "      <td>NaN</td>\n",
              "    </tr>\n",
              "    <tr>\n",
              "      <th>93420</th>\n",
              "      <td>2020-01-06</td>\n",
              "      <td>NaN</td>\n",
              "    </tr>\n",
              "    <tr>\n",
              "      <th>93421</th>\n",
              "      <td>2020-01-07</td>\n",
              "      <td>NaN</td>\n",
              "    </tr>\n",
              "    <tr>\n",
              "      <th>93422</th>\n",
              "      <td>2020-01-08</td>\n",
              "      <td>NaN</td>\n",
              "    </tr>\n",
              "    <tr>\n",
              "      <th>...</th>\n",
              "      <td>...</td>\n",
              "      <td>...</td>\n",
              "    </tr>\n",
              "    <tr>\n",
              "      <th>93979</th>\n",
              "      <td>2021-07-18</td>\n",
              "      <td>163.281</td>\n",
              "    </tr>\n",
              "    <tr>\n",
              "      <th>93980</th>\n",
              "      <td>2021-07-19</td>\n",
              "      <td>168.825</td>\n",
              "    </tr>\n",
              "    <tr>\n",
              "      <th>93981</th>\n",
              "      <td>2021-07-20</td>\n",
              "      <td>161.963</td>\n",
              "    </tr>\n",
              "    <tr>\n",
              "      <th>93982</th>\n",
              "      <td>2021-07-21</td>\n",
              "      <td>186.275</td>\n",
              "    </tr>\n",
              "    <tr>\n",
              "      <th>93983</th>\n",
              "      <td>2021-07-22</td>\n",
              "      <td>195.630</td>\n",
              "    </tr>\n",
              "  </tbody>\n",
              "</table>\n",
              "<p>566 rows × 2 columns</p>\n",
              "</div>"
            ],
            "text/plain": [
              "             date  new_cases_per_million\n",
              "93418  2020-01-04                    NaN\n",
              "93419  2020-01-05                    NaN\n",
              "93420  2020-01-06                    NaN\n",
              "93421  2020-01-07                    NaN\n",
              "93422  2020-01-08                    NaN\n",
              "...           ...                    ...\n",
              "93979  2021-07-18                163.281\n",
              "93980  2021-07-19                168.825\n",
              "93981  2021-07-20                161.963\n",
              "93982  2021-07-21                186.275\n",
              "93983  2021-07-22                195.630\n",
              "\n",
              "[566 rows x 2 columns]"
            ]
          },
          "metadata": {
            "tags": []
          },
          "execution_count": 235
        }
      ]
    },
    {
      "cell_type": "code",
      "metadata": {
        "colab": {
          "base_uri": "https://localhost:8080/"
        },
        "id": "75v6gp24rAk4",
        "outputId": "1ad4bd3c-2818-4008-b13d-24860889339c"
      },
      "source": [
        "df.info()"
      ],
      "execution_count": null,
      "outputs": [
        {
          "output_type": "stream",
          "text": [
            "<class 'pandas.core.frame.DataFrame'>\n",
            "Int64Index: 566 entries, 93418 to 93983\n",
            "Data columns (total 2 columns):\n",
            " #   Column                 Non-Null Count  Dtype  \n",
            "---  ------                 --------------  -----  \n",
            " 0   date                   566 non-null    object \n",
            " 1   new_cases_per_million  547 non-null    float64\n",
            "dtypes: float64(1), object(1)\n",
            "memory usage: 13.3+ KB\n"
          ],
          "name": "stdout"
        }
      ]
    },
    {
      "cell_type": "code",
      "metadata": {
        "id": "bdNLCs3arWN8"
      },
      "source": [
        "df = df.reset_index(drop=True)"
      ],
      "execution_count": null,
      "outputs": []
    },
    {
      "cell_type": "code",
      "metadata": {
        "colab": {
          "base_uri": "https://localhost:8080/",
          "height": 418
        },
        "id": "mmnqIeJpp4_T",
        "outputId": "ef944654-0ba6-4bc3-914c-5069cd36c769"
      },
      "source": [
        "# get after October 30th,2020 \n",
        "df= df.loc[300:,:]\n",
        "df"
      ],
      "execution_count": null,
      "outputs": [
        {
          "output_type": "execute_result",
          "data": {
            "text/html": [
              "<div>\n",
              "<style scoped>\n",
              "    .dataframe tbody tr th:only-of-type {\n",
              "        vertical-align: middle;\n",
              "    }\n",
              "\n",
              "    .dataframe tbody tr th {\n",
              "        vertical-align: top;\n",
              "    }\n",
              "\n",
              "    .dataframe thead th {\n",
              "        text-align: right;\n",
              "    }\n",
              "</style>\n",
              "<table border=\"1\" class=\"dataframe\">\n",
              "  <thead>\n",
              "    <tr style=\"text-align: right;\">\n",
              "      <th></th>\n",
              "      <th>date</th>\n",
              "      <th>new_cases_per_million</th>\n",
              "    </tr>\n",
              "  </thead>\n",
              "  <tbody>\n",
              "    <tr>\n",
              "      <th>300</th>\n",
              "      <td>2020-10-30</td>\n",
              "      <td>0.072</td>\n",
              "    </tr>\n",
              "    <tr>\n",
              "      <th>301</th>\n",
              "      <td>2020-10-31</td>\n",
              "      <td>0.057</td>\n",
              "    </tr>\n",
              "    <tr>\n",
              "      <th>302</th>\n",
              "      <td>2020-11-01</td>\n",
              "      <td>0.043</td>\n",
              "    </tr>\n",
              "    <tr>\n",
              "      <th>303</th>\n",
              "      <td>2020-11-02</td>\n",
              "      <td>0.143</td>\n",
              "    </tr>\n",
              "    <tr>\n",
              "      <th>304</th>\n",
              "      <td>2020-11-03</td>\n",
              "      <td>0.100</td>\n",
              "    </tr>\n",
              "    <tr>\n",
              "      <th>...</th>\n",
              "      <td>...</td>\n",
              "      <td>...</td>\n",
              "    </tr>\n",
              "    <tr>\n",
              "      <th>561</th>\n",
              "      <td>2021-07-18</td>\n",
              "      <td>163.281</td>\n",
              "    </tr>\n",
              "    <tr>\n",
              "      <th>562</th>\n",
              "      <td>2021-07-19</td>\n",
              "      <td>168.825</td>\n",
              "    </tr>\n",
              "    <tr>\n",
              "      <th>563</th>\n",
              "      <td>2021-07-20</td>\n",
              "      <td>161.963</td>\n",
              "    </tr>\n",
              "    <tr>\n",
              "      <th>564</th>\n",
              "      <td>2021-07-21</td>\n",
              "      <td>186.275</td>\n",
              "    </tr>\n",
              "    <tr>\n",
              "      <th>565</th>\n",
              "      <td>2021-07-22</td>\n",
              "      <td>195.630</td>\n",
              "    </tr>\n",
              "  </tbody>\n",
              "</table>\n",
              "<p>266 rows × 2 columns</p>\n",
              "</div>"
            ],
            "text/plain": [
              "           date  new_cases_per_million\n",
              "300  2020-10-30                  0.072\n",
              "301  2020-10-31                  0.057\n",
              "302  2020-11-01                  0.043\n",
              "303  2020-11-02                  0.143\n",
              "304  2020-11-03                  0.100\n",
              "..          ...                    ...\n",
              "561  2021-07-18                163.281\n",
              "562  2021-07-19                168.825\n",
              "563  2021-07-20                161.963\n",
              "564  2021-07-21                186.275\n",
              "565  2021-07-22                195.630\n",
              "\n",
              "[266 rows x 2 columns]"
            ]
          },
          "metadata": {
            "tags": []
          },
          "execution_count": 238
        }
      ]
    },
    {
      "cell_type": "code",
      "metadata": {
        "id": "42XrKtb6qZ9Z"
      },
      "source": [
        "df['date'] = pd.to_datetime(df.date)"
      ],
      "execution_count": null,
      "outputs": []
    },
    {
      "cell_type": "code",
      "metadata": {
        "id": "XaxdOB_mukee"
      },
      "source": [
        "df = df.reset_index(drop=True)"
      ],
      "execution_count": null,
      "outputs": []
    },
    {
      "cell_type": "code",
      "metadata": {
        "colab": {
          "base_uri": "https://localhost:8080/"
        },
        "id": "Sx_ygPilRnSn",
        "outputId": "5069d5a8-92c8-427c-d376-fc0d38ab99a9"
      },
      "source": [
        "#2021-07-23, 14575; 2021-07-24, 14260\n",
        "14575/69.93, 14260/69.93"
      ],
      "execution_count": null,
      "outputs": [
        {
          "output_type": "execute_result",
          "data": {
            "text/plain": [
              "(208.4227084227084, 203.9182039182039)"
            ]
          },
          "metadata": {
            "tags": []
          },
          "execution_count": 242
        }
      ]
    },
    {
      "cell_type": "markdown",
      "metadata": {
        "id": "gVGxv8k90SWr"
      },
      "source": [
        "add 2 recent data"
      ]
    },
    {
      "cell_type": "code",
      "metadata": {
        "id": "zaBFKOUHR-oa"
      },
      "source": [
        "df.loc[266, 'new_cases_per_million'] = 208.422\n",
        "df.loc[266,'date'] = pd.to_datetime('2021-07-23')\n",
        "df.loc[267, 'new_cases_per_million'] = 203.918\n",
        "df.loc[267,'date'] = pd.to_datetime('2021-07-24')"
      ],
      "execution_count": null,
      "outputs": []
    },
    {
      "cell_type": "code",
      "metadata": {
        "colab": {
          "base_uri": "https://localhost:8080/",
          "height": 418
        },
        "id": "ieWIL5vGSLvm",
        "outputId": "f7de2a7a-9ab3-4eb0-8351-27e6c22c08d3"
      },
      "source": [
        "df"
      ],
      "execution_count": null,
      "outputs": [
        {
          "output_type": "execute_result",
          "data": {
            "text/html": [
              "<div>\n",
              "<style scoped>\n",
              "    .dataframe tbody tr th:only-of-type {\n",
              "        vertical-align: middle;\n",
              "    }\n",
              "\n",
              "    .dataframe tbody tr th {\n",
              "        vertical-align: top;\n",
              "    }\n",
              "\n",
              "    .dataframe thead th {\n",
              "        text-align: right;\n",
              "    }\n",
              "</style>\n",
              "<table border=\"1\" class=\"dataframe\">\n",
              "  <thead>\n",
              "    <tr style=\"text-align: right;\">\n",
              "      <th></th>\n",
              "      <th>date</th>\n",
              "      <th>new_cases_per_million</th>\n",
              "    </tr>\n",
              "  </thead>\n",
              "  <tbody>\n",
              "    <tr>\n",
              "      <th>0</th>\n",
              "      <td>2020-10-30</td>\n",
              "      <td>0.072</td>\n",
              "    </tr>\n",
              "    <tr>\n",
              "      <th>1</th>\n",
              "      <td>2020-10-31</td>\n",
              "      <td>0.057</td>\n",
              "    </tr>\n",
              "    <tr>\n",
              "      <th>2</th>\n",
              "      <td>2020-11-01</td>\n",
              "      <td>0.043</td>\n",
              "    </tr>\n",
              "    <tr>\n",
              "      <th>3</th>\n",
              "      <td>2020-11-02</td>\n",
              "      <td>0.143</td>\n",
              "    </tr>\n",
              "    <tr>\n",
              "      <th>4</th>\n",
              "      <td>2020-11-03</td>\n",
              "      <td>0.100</td>\n",
              "    </tr>\n",
              "    <tr>\n",
              "      <th>...</th>\n",
              "      <td>...</td>\n",
              "      <td>...</td>\n",
              "    </tr>\n",
              "    <tr>\n",
              "      <th>263</th>\n",
              "      <td>2021-07-20</td>\n",
              "      <td>161.963</td>\n",
              "    </tr>\n",
              "    <tr>\n",
              "      <th>264</th>\n",
              "      <td>2021-07-21</td>\n",
              "      <td>186.275</td>\n",
              "    </tr>\n",
              "    <tr>\n",
              "      <th>265</th>\n",
              "      <td>2021-07-22</td>\n",
              "      <td>195.630</td>\n",
              "    </tr>\n",
              "    <tr>\n",
              "      <th>266</th>\n",
              "      <td>2021-07-23</td>\n",
              "      <td>208.422</td>\n",
              "    </tr>\n",
              "    <tr>\n",
              "      <th>267</th>\n",
              "      <td>2021-07-24</td>\n",
              "      <td>203.918</td>\n",
              "    </tr>\n",
              "  </tbody>\n",
              "</table>\n",
              "<p>268 rows × 2 columns</p>\n",
              "</div>"
            ],
            "text/plain": [
              "          date  new_cases_per_million\n",
              "0   2020-10-30                  0.072\n",
              "1   2020-10-31                  0.057\n",
              "2   2020-11-01                  0.043\n",
              "3   2020-11-02                  0.143\n",
              "4   2020-11-03                  0.100\n",
              "..         ...                    ...\n",
              "263 2021-07-20                161.963\n",
              "264 2021-07-21                186.275\n",
              "265 2021-07-22                195.630\n",
              "266 2021-07-23                208.422\n",
              "267 2021-07-24                203.918\n",
              "\n",
              "[268 rows x 2 columns]"
            ]
          },
          "metadata": {
            "tags": []
          },
          "execution_count": 244
        }
      ]
    },
    {
      "cell_type": "code",
      "metadata": {
        "id": "WEUwEHuxsJQQ"
      },
      "source": [
        "#function for create time series data\n",
        "def createSingleTimeSeries(dataframe, interval, column):\n",
        "  timeseries = []\n",
        "  groundtruth = []\n",
        "\n",
        "  for i in range(interval, len(dataframe)):\n",
        "    data_interval = dataframe.loc[i - interval: i - 1, column].values\n",
        "    res = dataframe.loc[i,column]\n",
        "\n",
        "    timeseries.append(data_interval)\n",
        "    groundtruth.append(res)\n",
        "\n",
        "  return timeseries, groundtruth"
      ],
      "execution_count": null,
      "outputs": []
    },
    {
      "cell_type": "code",
      "metadata": {
        "id": "zz1DbuNItbXX"
      },
      "source": [
        "#create timeseries data\n",
        "data,res = createSingleTimeSeries(df,14,'new_cases_per_million')"
      ],
      "execution_count": null,
      "outputs": []
    },
    {
      "cell_type": "code",
      "metadata": {
        "colab": {
          "base_uri": "https://localhost:8080/"
        },
        "id": "1fAFLHpmtxz2",
        "outputId": "24ba3145-329d-4545-fb1a-5628876086a1"
      },
      "source": [
        "data[-1], res[-1]"
      ],
      "execution_count": null,
      "outputs": [
        {
          "output_type": "execute_result",
          "data": {
            "text/plain": [
              "(array([133.61 , 136.662, 124.012, 124.427, 133.481, 131.605, 138.854,\n",
              "        144.441, 163.281, 168.825, 161.963, 186.275, 195.63 , 208.422]),\n",
              " 203.918)"
            ]
          },
          "metadata": {
            "tags": []
          },
          "execution_count": 247
        }
      ]
    },
    {
      "cell_type": "markdown",
      "metadata": {
        "id": "RrfM2aojvVv5"
      },
      "source": [
        "# prepared format of data"
      ]
    },
    {
      "cell_type": "code",
      "metadata": {
        "id": "vP0i98JgvD8Z"
      },
      "source": [
        "#function for prepare data input to model\n",
        "def prepdatatomodel(X,y):\n",
        "  X = np.array(X)\n",
        "  y = np.array(y)\n",
        "\n",
        "  X = np.reshape(X, (X.shape[0],X.shape[1] , 1))\n",
        "\n",
        "  return X,y "
      ],
      "execution_count": null,
      "outputs": []
    },
    {
      "cell_type": "code",
      "metadata": {
        "id": "uNLzrkKmyjkn"
      },
      "source": [
        "datanp, resnp = prepdatatomodel(data,res)"
      ],
      "execution_count": null,
      "outputs": []
    },
    {
      "cell_type": "code",
      "metadata": {
        "colab": {
          "base_uri": "https://localhost:8080/"
        },
        "id": "oh5X7C2wytKJ",
        "outputId": "1ba02d6d-3fcb-44d1-b890-776fc807bfa6"
      },
      "source": [
        "datanp[-1],resnp[-1]"
      ],
      "execution_count": null,
      "outputs": [
        {
          "output_type": "execute_result",
          "data": {
            "text/plain": [
              "(array([[133.61 ],\n",
              "        [136.662],\n",
              "        [124.012],\n",
              "        [124.427],\n",
              "        [133.481],\n",
              "        [131.605],\n",
              "        [138.854],\n",
              "        [144.441],\n",
              "        [163.281],\n",
              "        [168.825],\n",
              "        [161.963],\n",
              "        [186.275],\n",
              "        [195.63 ],\n",
              "        [208.422]]), 203.918)"
            ]
          },
          "metadata": {
            "tags": []
          },
          "execution_count": 250
        }
      ]
    },
    {
      "cell_type": "code",
      "metadata": {
        "colab": {
          "base_uri": "https://localhost:8080/"
        },
        "id": "JWbnGxWkDPWe",
        "outputId": "1a70defe-c134-4939-a326-bdabb0fee82d"
      },
      "source": [
        "predict = model.predict(datanp)\n",
        "predict[-2]"
      ],
      "execution_count": null,
      "outputs": [
        {
          "output_type": "execute_result",
          "data": {
            "text/plain": [
              "array([196.60547], dtype=float32)"
            ]
          },
          "metadata": {
            "tags": []
          },
          "execution_count": 252
        }
      ]
    },
    {
      "cell_type": "markdown",
      "metadata": {
        "id": "HADvBjU9y0bT"
      },
      "source": [
        "# predict from prediction value"
      ]
    },
    {
      "cell_type": "code",
      "metadata": {
        "id": "Xb4h6UvUzQa4"
      },
      "source": [
        "def prepareSingleTimeSeries(X):\n",
        "  X = np.array(X)\n",
        "\n",
        "  X = np.reshape(X, (1,14, 1))\n",
        "\n",
        "  return X"
      ],
      "execution_count": null,
      "outputs": []
    },
    {
      "cell_type": "code",
      "metadata": {
        "id": "lsY6LEnEzCqh"
      },
      "source": [
        "#lopp predict for 4 months\n",
        "\n",
        "tsdata = prepareSingleTimeSeries(datanp[-1])\n",
        "predict_result = []\n",
        "noisePred_result = []\n",
        "\n",
        "for t in range(160): #forward 160 day\n",
        "  pred = model.predict(tsdata)\n",
        "  pred = pred[0][0]\n",
        "  predict_result.append(pred)\n",
        "\n",
        "  #add noise: increase random error 5 - 12.5% of  predict -> random increase, decrease\n",
        "  #use random from gaussian distribution\n",
        "  if t < 80: #first 80 day -> trend to increase\n",
        "    mu, sigma = 0.025,0.1 #(-0.075,0.125)\n",
        "    noise = np.random.normal(mu, sigma) #%noise\n",
        "    noisePred = pred + noise*pred\n",
        "  elif t >= 80:\n",
        "    mu, sigma = 0,0.1 #(-0.05,0.15)\n",
        "    noise = np.random.normal(mu, sigma) #%noise\n",
        "    noisePred = pred + noise*pred\n",
        "\n",
        "  noisePred_result.append(noisePred)\n",
        "\n",
        "  for i in range(tsdata.shape[1]):\n",
        "    if i < (tsdata.shape[1] - 1):\n",
        "      tsdata[0][i] = tsdata[0][i+1]\n",
        "    if i == (tsdata.shape[1] - 1):\n",
        "      tsdata[0][i] = noisePred\n",
        "  print(tsdata)\n",
        "  print(pred)\n",
        "  print(noisePred)\n",
        "print(predict_result)\n",
        "print(noisePred_result)"
      ],
      "execution_count": null,
      "outputs": []
    },
    {
      "cell_type": "code",
      "metadata": {
        "id": "rPJxTZOkPf2v"
      },
      "source": [
        "predict_result_np = np.array(predict_result)"
      ],
      "execution_count": null,
      "outputs": []
    },
    {
      "cell_type": "code",
      "metadata": {
        "colab": {
          "base_uri": "https://localhost:8080/",
          "height": 283
        },
        "id": "iWqyYC8SLslg",
        "outputId": "1921377c-ddaa-4bf1-814a-34898e7d2670"
      },
      "source": [
        "plt.plot(predict_result_np*69.93)"
      ],
      "execution_count": null,
      "outputs": [
        {
          "output_type": "execute_result",
          "data": {
            "text/plain": [
              "[<matplotlib.lines.Line2D at 0x7fe212515990>]"
            ]
          },
          "metadata": {
            "tags": []
          },
          "execution_count": 266
        },
        {
          "output_type": "display_data",
          "data": {
            "image/png": "[encoded data removed]",
            "text/plain": [
              "<Figure size 432x288 with 1 Axes>"
            ]
          },
          "metadata": {
            "tags": [],
            "needs_background": "light"
          }
        }
      ]
    },
    {
      "cell_type": "code",
      "metadata": {
        "id": "UissFfGnOddm"
      },
      "source": [
        "temp = list(df['new_cases_per_million'].values * 69.93)"
      ],
      "execution_count": null,
      "outputs": []
    },
    {
      "cell_type": "code",
      "metadata": {
        "colab": {
          "base_uri": "https://localhost:8080/",
          "height": 283
        },
        "id": "H-DIfME8T2fu",
        "outputId": "57d27c79-ddb5-43e8-d1f3-ec33e150986f"
      },
      "source": [
        "plt.plot(temp)"
      ],
      "execution_count": null,
      "outputs": [
        {
          "output_type": "execute_result",
          "data": {
            "text/plain": [
              "[<matplotlib.lines.Line2D at 0x7fe211ec6890>]"
            ]
          },
          "metadata": {
            "tags": []
          },
          "execution_count": 268
        },
        {
          "output_type": "display_data",
          "data": {
            "image/png": "[encoded data removed]",
            "text/plain": [
              "<Figure size 432x288 with 1 Axes>"
            ]
          },
          "metadata": {
            "tags": [],
            "needs_background": "light"
          }
        }
      ]
    },
    {
      "cell_type": "code",
      "metadata": {
        "id": "-Munw4EOUrcm"
      },
      "source": [
        " temp = list(df['new_cases_per_million'].values)"
      ],
      "execution_count": null,
      "outputs": []
    },
    {
      "cell_type": "code",
      "metadata": {
        "id": "Ly_JnQrpWR87"
      },
      "source": [
        "All = temp + predict_result"
      ],
      "execution_count": null,
      "outputs": []
    },
    {
      "cell_type": "code",
      "metadata": {
        "colab": {
          "base_uri": "https://localhost:8080/",
          "height": 283
        },
        "id": "6DxlAT4lWlPx",
        "outputId": "592a5f2f-dce1-41c4-d098-cb0a5f3f4ee3"
      },
      "source": [
        "plt.plot(np.array(All)*69.93)"
      ],
      "execution_count": null,
      "outputs": [
        {
          "output_type": "execute_result",
          "data": {
            "text/plain": [
              "[<matplotlib.lines.Line2D at 0x7fe2123df2d0>]"
            ]
          },
          "metadata": {
            "tags": []
          },
          "execution_count": 271
        },
        {
          "output_type": "display_data",
          "data": {
            "image/png": "[encoded data removed]",
            "text/plain": [
              "<Figure size 432x288 with 1 Axes>"
            ]
          },
          "metadata": {
            "tags": [],
            "needs_background": "light"
          }
        }
      ]
    },
    {
      "cell_type": "code",
      "metadata": {
        "id": "K7lkcxbclNaX"
      },
      "source": [
        "listpredict = predict.reshape(-1).tolist()"
      ],
      "execution_count": null,
      "outputs": []
    },
    {
      "cell_type": "code",
      "metadata": {
        "id": "AJZ5wDt4Wv9h"
      },
      "source": [
        "allPredict = listpredict + predict_result "
      ],
      "execution_count": null,
      "outputs": []
    },
    {
      "cell_type": "code",
      "metadata": {
        "id": "vrFZjOU1lJtG"
      },
      "source": [
        "allPredict"
      ],
      "execution_count": null,
      "outputs": []
    },
    {
      "cell_type": "markdown",
      "metadata": {
        "id": "qPbiKZQ71PP5"
      },
      "source": [
        "# Plot"
      ]
    },
    {
      "cell_type": "code",
      "metadata": {
        "colab": {
          "base_uri": "https://localhost:8080/",
          "height": 521
        },
        "id": "AdaT-9thk4t3",
        "outputId": "189c057a-8f03-44ff-901d-a54903b45a5a"
      },
      "source": [
        "plt.figure(figsize=(14,8))\n",
        "\n",
        "plt.plot(np.array(temp[14:])*69.93, label = 'True new cases', linewidth = 2)\n",
        "plt.plot(np.array(allPredict)*69.93, label = 'Predict new cases', linewidth = 2, linestyle = '--')\n",
        "\n",
        "plt.title('Predict new cases of COVID-19 infection', fontsize = 18)\n",
        "plt.ylabel('Number of newcases', fontsize = 14)\n",
        "plt.xlabel('Day from November 14th, 2020', fontsize = 14)\n",
        "plt.vlines(252,0,20000, color = 'r')\n",
        "plt.annotate('Today', (253,0), fontsize = 14)\n",
        "plt.legend()\n",
        "\n",
        "# plt.savefig('/content/drive/MyDrive/covid_model/result/predicted160day_covid.png', dpi = 600)\n",
        "plt.show()"
      ],
      "execution_count": null,
      "outputs": [
        {
          "output_type": "display_data",
          "data": {
            "image/png": "[encoded data removed]",
            "text/plain": [
              "<Figure size 1008x576 with 1 Axes>"
            ]
          },
          "metadata": {
            "tags": [],
            "needs_background": "light"
          }
        }
      ]
    },
    {
      "cell_type": "code",
      "metadata": {
        "id": "wdjDvBCmqzP4"
      },
      "source": [
        ""
      ],
      "execution_count": null,
      "outputs": []
    }
  ]
}